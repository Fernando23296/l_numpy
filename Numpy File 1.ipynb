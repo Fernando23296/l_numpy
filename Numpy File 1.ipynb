{
 "cells": [
  {
   "cell_type": "markdown",
   "metadata": {},
   "source": [
    "Python es un lenguaje de programacion para uso de proposito general y junto con otras librerias como numpy, scipy y matplotlib, con esto se vuelve un ambiente poderoso de computacion cientifico."
   ]
  },
  {
   "cell_type": "markdown",
   "metadata": {},
   "source": [
    "Numpy es la libreria nucleo para la computacion cientifica en Python. Este provee un objeto de rendimiento de array multidimensional de alto nivel y herrameitas para trabajar con estos arrays (arrays: ) la forma del array es una tupla de enteros dado el tamaño del array a lo largo de cada dimemnsion.\n",
    "\n",
    "Podemos inicializar los numpy arrays desde una lista anidad Python, y acceder elementos usando corchetes."
   ]
  },
  {
   "cell_type": "code",
   "execution_count": 1,
   "metadata": {},
   "outputs": [],
   "source": [
    "import numpy as np"
   ]
  },
  {
   "cell_type": "code",
   "execution_count": 2,
   "metadata": {},
   "outputs": [
    {
     "name": "stdout",
     "output_type": "stream",
     "text": [
      "<class 'numpy.ndarray'>\n",
      "(3,)\n",
      "1 2 3\n",
      "[5 2 3]\n",
      "(2, 3)\n",
      "1 2 4\n"
     ]
    }
   ],
   "source": [
    "#Se crea un array con los valores 1,2,3. Con un rank array de 1\n",
    "a = np.array([1, 2, 3])  \n",
    "\n",
    "#Se imprime el tipo de valor que tiene a, en este caso es un numpy array\n",
    "print(type(a))            \n",
    "\n",
    "#Se imprime el tamaño del array\n",
    "print(a.shape)            \n",
    "\n",
    "#Se imprime de manera indexada los valores dentro del array\n",
    "print(a[0], a[1], a[2])   \n",
    "\n",
    "#Se cambia el valor del index en la posicion 0\n",
    "a[0] = 5                  \n",
    "\n",
    "#Se imprime el nuevo array, con el index 0 cambiado\n",
    "print(a)                 \n",
    "\n",
    "#Se crea un array de rank 2\n",
    "b = np.array([[1,2,3],[4,5,6]])\n",
    "\n",
    "#Se imprime el tamaño/ forma del array \n",
    "print(b.shape)                     \n",
    "\n",
    "#Se imprime la las posiciones 1,2,3 de la fila 0\n",
    "print(b[0, 0], b[0, 1], b[1, 0])   "
   ]
  },
  {
   "cell_type": "code",
   "execution_count": 3,
   "metadata": {},
   "outputs": [
    {
     "name": "stdout",
     "output_type": "stream",
     "text": [
      "[[0. 0.]\n",
      " [0. 0.]]\n",
      "[[1. 1.]]\n",
      "[[7 7]\n",
      " [7 7]]\n",
      "[[1. 0.]\n",
      " [0. 1.]]\n",
      "[[0.19934321 0.24081125]\n",
      " [0.66095361 0.29361755]]\n"
     ]
    }
   ],
   "source": [
    "# Se crea un array de rank 2 de tamaño 2x2 lleno de ceros\n",
    "a = np.zeros((2,2))  \n",
    "print(a)              \n",
    "\n",
    "#Se crea un array de rank 2 de tamaño 1x2 lleno de unos\n",
    "b = np.ones((1,2))    \n",
    "print(b)             \n",
    "\n",
    "#Se crea un array de tamaño 2x2 lleno de numeros de valor 7, en este caso\n",
    "c = np.full((2,2), 7)  \n",
    "print(c)         \n",
    "\n",
    "#Se crea una matriz cuadrada de identidad de tamaño 2x2\n",
    "d = np.eye(2)         \n",
    "print(d)              \n",
    "\n",
    "#Se crea un array de tamaño 2x2 lleno de valores randomicos\n",
    "e = np.random.random((2,2))  \n",
    "print(e)                     "
   ]
  },
  {
   "cell_type": "code",
   "execution_count": 8,
   "metadata": {},
   "outputs": [
    {
     "data": {
      "text/plain": [
       "array([[1., 1.],\n",
       "       [1., 1.],\n",
       "       [1., 1.]])"
      ]
     },
     "execution_count": 8,
     "metadata": {},
     "output_type": "execute_result"
    }
   ],
   "source": [
    "np.ones((3,2))"
   ]
  },
  {
   "cell_type": "code",
   "execution_count": 9,
   "metadata": {},
   "outputs": [
    {
     "data": {
      "text/plain": [
       "array([[[0., 0.],\n",
       "        [0., 0.]],\n",
       "\n",
       "       [[0., 0.],\n",
       "        [0., 0.]],\n",
       "\n",
       "       [[0., 0.],\n",
       "        [0., 0.]]])"
      ]
     },
     "execution_count": 9,
     "metadata": {},
     "output_type": "execute_result"
    }
   ],
   "source": [
    "np.zeros((3,2,2))"
   ]
  },
  {
   "cell_type": "code",
   "execution_count": 10,
   "metadata": {},
   "outputs": [
    {
     "data": {
      "text/plain": [
       "array([[1., 0., 0., 0., 0.],\n",
       "       [0., 1., 0., 0., 0.],\n",
       "       [0., 0., 1., 0., 0.],\n",
       "       [0., 0., 0., 1., 0.],\n",
       "       [0., 0., 0., 0., 1.]])"
      ]
     },
     "execution_count": 10,
     "metadata": {},
     "output_type": "execute_result"
    }
   ],
   "source": [
    "np.eye(5)"
   ]
  },
  {
   "cell_type": "code",
   "execution_count": 11,
   "metadata": {},
   "outputs": [
    {
     "data": {
      "text/plain": [
       "array([[9, 9, 9, 9, 9],\n",
       "       [9, 9, 9, 9, 9],\n",
       "       [9, 9, 9, 9, 9]])"
      ]
     },
     "execution_count": 11,
     "metadata": {},
     "output_type": "execute_result"
    }
   ],
   "source": [
    "np.full((3,5),9)"
   ]
  },
  {
   "cell_type": "markdown",
   "metadata": {},
   "source": [
    "## Array indexing\n",
    "\n",
    "Numpy ofrece muchas maneras de indexar dentro de los arrays\n",
    "\n",
    "Slicing: Similar a las listas Python, los arrays numpy pueden ser rebanados. Ya que los arrays pueden ser multidimensionales, se debe especificar una rebanada para cada dimesion del array:\n"
   ]
  },
  {
   "cell_type": "code",
   "execution_count": 23,
   "metadata": {},
   "outputs": [
    {
     "name": "stdout",
     "output_type": "stream",
     "text": [
      "3\n",
      "[[2 3]\n",
      " [6 7]]\n"
     ]
    }
   ],
   "source": [
    "\n",
    "# [[ 1  2  3  4]\n",
    "#  [ 5  6  7  8]\n",
    "#  [ 9 10 11 12]]\n",
    "\n",
    "matriz = np.array([[1,2,3,4],[5,6,7,8],[9,10,11,12]])\n",
    "print(len(matriz))\n",
    "\n",
    "#corta la matriz y devuelve lo siguiente:\n",
    "'''\n",
    "[[2,3],\n",
    "[6,7]]\n",
    "'''\n",
    "cortado = matriz[0:2,1:3]\n",
    "print(cortado)\n",
    "\n",
    "    "
   ]
  },
  {
   "cell_type": "markdown",
   "metadata": {},
   "source": [
    "http://cs231n.github.io/python-numpy-tutorial/"
   ]
  },
  {
   "cell_type": "code",
   "execution_count": null,
   "metadata": {},
   "outputs": [],
   "source": []
  }
 ],
 "metadata": {
  "kernelspec": {
   "display_name": "Python 3",
   "language": "python",
   "name": "python3"
  },
  "language_info": {
   "codemirror_mode": {
    "name": "ipython",
    "version": 3
   },
   "file_extension": ".py",
   "mimetype": "text/x-python",
   "name": "python",
   "nbconvert_exporter": "python",
   "pygments_lexer": "ipython3",
   "version": "3.7.3"
  }
 },
 "nbformat": 4,
 "nbformat_minor": 2
}
